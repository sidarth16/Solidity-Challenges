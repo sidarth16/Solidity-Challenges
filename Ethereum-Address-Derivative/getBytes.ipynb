{
 "cells": [
  {
   "cell_type": "code",
   "execution_count": 1,
   "metadata": {},
   "outputs": [],
   "source": [
    "# import secrets\n",
    "import sha3\n",
    "# import eth_keys\n",
    "from eth_keys import keys\n",
    "from dotenv import load_dotenv\n",
    "\n"
   ]
  },
  {
   "cell_type": "code",
   "execution_count": 2,
   "metadata": {},
   "outputs": [],
   "source": [
    "load_dotenv()\n",
    "my_private_key = os.getenv('PRIVATE_KEY')"
   ]
  },
  {
   "cell_type": "markdown",
   "metadata": {},
   "source": [
    "https://ethereum.stackexchange.com/questions/3542/how-are-ethereum-addresses-generated"
   ]
  },
  {
   "cell_type": "code",
   "execution_count": 4,
   "metadata": {},
   "outputs": [
    {
     "name": "stdout",
     "output_type": "stream",
     "text": [
      "\n",
      " Public_key_hex: 0x88c93db3803d63fa61ee27455308a42addc05dd680d8105a1263c584527b712fab708b7ab6429d0da8533437936281fa2c88dc691df414bbdb09cffe1d7be2cb \n",
      " Ethereum address: 0x10250504bbb3fbc9b645fbccbb102b231aa55492\n"
     ]
    }
   ],
   "source": [
    "\n",
    "private_key = my_private_key\n",
    "private_key_bytes = bytes.fromhex(private_key)\n",
    "public_key_hex = keys.PrivateKey(private_key_bytes).public_key\n",
    "public_key_bytes = bytes.fromhex(str(public_key_hex)[2:])\n",
    "Keccak256_of_public_key_bytes = sha3.keccak_256(public_key_bytes).hexdigest()\n",
    "public_address = keys.PublicKey(public_key_bytes).to_address()\n",
    "\n",
    "\n",
    "print(\n",
    "      # '\\n Private_key:',private_key,\n",
    "      # '\\n Private_key_bytes:',private_key_bytes,\n",
    "      '\\n Public_key_hex:',public_key_hex,\n",
    "      # '\\n Public_key_bytes:',public_key_bytes,\n",
    "      # '\\n Full_Keccak_digest:',Keccak256_of_public_key_bytes,\n",
    "      '\\n Ethereum address:',public_address)"
   ]
  },
  {
   "cell_type": "code",
   "execution_count": null,
   "metadata": {},
   "outputs": [],
   "source": []
  }
 ],
 "metadata": {
  "kernelspec": {
   "display_name": "Python 3.8.9 64-bit",
   "language": "python",
   "name": "python3"
  },
  "language_info": {
   "codemirror_mode": {
    "name": "ipython",
    "version": 3
   },
   "file_extension": ".py",
   "mimetype": "text/x-python",
   "name": "python",
   "nbconvert_exporter": "python",
   "pygments_lexer": "ipython3",
   "version": "3.8.9"
  },
  "orig_nbformat": 4,
  "vscode": {
   "interpreter": {
    "hash": "aee8b7b246df8f9039afb4144a1f6fd8d2ca17a180786b69acc140d282b71a49"
   }
  }
 },
 "nbformat": 4,
 "nbformat_minor": 2
}
